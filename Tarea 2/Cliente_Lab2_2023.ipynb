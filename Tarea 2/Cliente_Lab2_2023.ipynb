{
  "cells": [
    {
      "cell_type": "code",
      "execution_count": 43,
      "metadata": {},
      "outputs": [],
      "source": [
        "import pandas as pd\n",
        "from collections import defaultdict\n",
        "from collections import Counter\n",
        "import re\n",
        "import math\n",
        "import json"
      ]
    },
    {
      "cell_type": "code",
      "execution_count": 44,
      "metadata": {},
      "outputs": [],
      "source": [
        "# Cargar el archivo de entrenamiento\n",
        "with open(\"chat.txt\", \"r\") as file:\n",
        "    chat = file.read()"
      ]
    },
    {
      "cell_type": "code",
      "execution_count": 46,
      "metadata": {},
      "outputs": [],
      "source": [
        "# Procesamiento de del chat para obtener una lista de palabras\n",
        "lines = chat.split('\\n')\n",
        "words = []\n",
        "\n",
        "frases_eliminar = [\"Creó el grupo\", \"Se eliminó este mensaje\", \"Multimedia omitido\", \"Se editó este mensaje\", \"Se te añadió al grupo\", \"Se unió usando el enlace de invitación de este grupo\", \"Salió del grupo\", \"Añadió a\"]\n",
        "\n",
        "eliminar = [frase.split() for frase in frases_eliminar]\n",
        "\n",
        "for line in lines:\n",
        "    \n",
        "    if \":\" in line:\n",
        "        message = line.rsplit(\":\", 1)[-1].strip()\n",
        "        message_clean = re.findall(r'[\\wáéíóúÁÉÍÓÚñÑ]+', message) \n",
        "        \n",
        "        if not message_clean in eliminar: # sacamos los textos que no son mensajes\n",
        "            words.extend(word.lower() for word in message_clean) # conservamos las palabras pero en minusculas\n",
        "        "
      ]
    },
    {
      "cell_type": "code",
      "execution_count": 47,
      "metadata": {},
      "outputs": [],
      "source": [
        "# Cargar el diccionario en español\n",
        "with open(\"index.json\", \"r\", encoding=\"utf-8\") as json_file:\n",
        "    diccionario_esp = json.load(json_file)\n"
      ]
    },
    {
      "cell_type": "code",
      "execution_count": 94,
      "metadata": {},
      "outputs": [],
      "source": [
        "def eliminar_tildes(palabra):\n",
        "    tildes = {'á': 'a', 'é': 'e', 'í': 'i', 'ó': 'o', 'ú': 'u'}\n",
        "    return ''.join(tildes.get(char, char) for char in palabra)\n",
        "\n",
        "# Eliminar tildes de las palabras\n",
        "words_sin_tildes = [eliminar_tildes(word) for word in words]\n",
        "\n",
        "# Aplicando criterio de todo o nada\n",
        "\n",
        "# Lista para almacenar las palabras corregidas\n",
        "words_corr_st = []\n",
        "\n",
        "# Corregir errores ortográficos\n",
        "for word in words_sin_tildes:\n",
        "    # Si la palabra está en el diccionario personalizado se guarda\n",
        "    if word in diccionario_esp:\n",
        "        words_corr_st.append(word)"
      ]
    },
    {
      "cell_type": "code",
      "execution_count": 49,
      "metadata": {},
      "outputs": [],
      "source": [
        "def frases_de_horizonte(horizonte, words):\n",
        "    '''\n",
        "    Devuelve un diccionario con un key por palabra del vocabulario y valores las frases de largo horizonte que terminan en la palabra\n",
        "    '''\n",
        "    iter = list(set(words))\n",
        "    frases= {}\n",
        "    for target in iter: #Tomo las palabras para las que quiero las probab condicionales\n",
        "        # Length of sublists you want to find\n",
        "        n = horizonte\n",
        "        # listas de palabras con la palabra target\n",
        "        frases[target] = [words[max(i-n,0):i] for i in range(len(words)) if target == words[i]]\n",
        "    return frases\n",
        "\n"
      ]
    },
    {
      "cell_type": "code",
      "execution_count": 50,
      "metadata": {},
      "outputs": [],
      "source": [
        "def cuantos(b, a, frases):\n",
        "    '''\n",
        "    Cuenta la cantidad de frases que terminan en a tienen a b\n",
        "    '''\n",
        "    frases_con_b = 0\n",
        "    if a in frases:\n",
        "        for words in frases[a]:\n",
        "            if b in words:\n",
        "                frases_con_b += 1\n",
        "    return frases_con_b"
      ]
    },
    {
      "cell_type": "code",
      "execution_count": 51,
      "metadata": {},
      "outputs": [],
      "source": [
        "#Diccionario con las probabilidades a priori de las palabras\n",
        "def Priori(words):\n",
        "    '''\n",
        "    Calcula un diccionario con las probabilidades a priori de cada palabra\n",
        "    '''\n",
        "    P = {}\n",
        "    for palabra in list(set(words)):\n",
        "        P[palabra] = words.count(palabra)/len(words) #cantidad de ocurrencias de la palabra en todas las instancias\n",
        "    return P"
      ]
    },
    {
      "cell_type": "code",
      "execution_count": 52,
      "metadata": {},
      "outputs": [],
      "source": [
        "def Probabilidades_condicionales(words, horizonte, m):\n",
        "    '''\n",
        "    Calcula un diccionario con las probabilidades condicionales de cada palabra de estar en una frase de largo horizonte con cada otra palabra\n",
        "    '''\n",
        "    PD = {} #Diccionario con las probabilidades condicoinales m-estimador\n",
        "\n",
        "    frases = frases_de_horizonte(horizonte, words)\n",
        "\n",
        "    pal_unicas = list(set(words))\n",
        "\n",
        "    for a in pal_unicas: # P( _ | a)\n",
        "        PD[a]={}\n",
        "        itera = pal_unicas.copy()\n",
        "        itera.remove(a)\n",
        "        for b in itera: # P( b | a )\n",
        "            e = cuantos(b,a,frases) #frases con la palabra b que terminan en a\n",
        "            p = 1/len(pal_unicas) #probabilidad de una palabra\n",
        "            n = len(frases[a]) #frases que terminan con a\n",
        "            PD[a][b]= (e + m*p)/(n+m)\n",
        "    return PD"
      ]
    },
    {
      "cell_type": "code",
      "execution_count": 91,
      "metadata": {},
      "outputs": [],
      "source": [
        "horizonte = 4\n",
        "m = 4\n",
        "PD = Probabilidades_condicionales(words, horizonte, m)\n",
        "P = Priori(words)"
      ]
    },
    {
      "cell_type": "code",
      "execution_count": 92,
      "metadata": {},
      "outputs": [],
      "source": [
        "def recomendacion_bayesiana(frase):\n",
        "    D = frase   # Frase que será ingresada\n",
        "    \n",
        "    P_nada = 0.000000001  # valor pequeño por si la palabra no aparece en el diccionario\n",
        "    h_MAP = \"\" \n",
        "    p_MAP = float('-inf') ##variable que se utilizará para almacenar la probabilidad más alta encontrada hasta ahora.\n",
        "\n",
        "    for h in P: # me fijo en cada palabra posible\n",
        "        prome = P[h]\n",
        "        prob = math.log(P[h])\n",
        "        for d in D[-horizonte:]:\n",
        "            prome = prome + PD[h].get(d, P_nada)\n",
        "            prob = prob + math.log(PD[h].get(d, P_nada)) #log(P(sugerencia))+log(P(palabra1|sugerencia))+...+log(P(palabran|sugerencia))\n",
        "        if prob > p_MAP:\n",
        "            promedio = prome # Guardo el promedio de los factores de h_MAP\n",
        "            h_MAP, p_MAP = h, prob\n",
        "    promedio = promedio/len(D[-horizonte:])\n",
        "    print(\"Promedio de los factores de la sugerencia \",h_MAP,\" =\", promedio)\n",
        "    return(h_MAP)\n"
      ]
    },
    {
      "cell_type": "code",
      "execution_count": 114,
      "metadata": {},
      "outputs": [],
      "source": [
        "horizonte_d = 2\n",
        "m = 2\n",
        "PD_dict = Probabilidades_condicionales(words_corr_st, horizonte_d, m)\n",
        "P_dict = Priori(words_corr_st)"
      ]
    },
    {
      "cell_type": "code",
      "execution_count": 115,
      "metadata": {},
      "outputs": [],
      "source": [
        "def recomendacion_bayesiana_dict(frase):\n",
        "    D = frase   # Frase que será ingresada\n",
        "    \n",
        "    P_nada = 0.000000001  # valor pequeño por si la palabra no aparece en el diccionario\n",
        "    h_MAP = \"\" \n",
        "    p_MAP = float('-inf') ##variable que se utilizará para almacenar la probabilidad más alta encontrada hasta ahora.\n",
        "\n",
        "    for h in P_dict: # me fijo en cada palabra posible\n",
        "        prome = P_dict[h]\n",
        "        prob = math.log(P_dict[h])\n",
        "        for d in D[-horizonte:]:\n",
        "            prome = prome + PD_dict[h].get(d, P_nada)\n",
        "            prob = prob + math.log(PD_dict[h].get(d, P_nada)) #log(P(sugerencia))+log(P(palabra1|sugerencia))+...+log(P(palabran|sugerencia))\n",
        "        if prob > p_MAP:\n",
        "            promedio = prome # Guardo el promedio de los factores de h_MAP\n",
        "            h_MAP, p_MAP = h, prob\n",
        "    promedio = promedio/len(D[-horizonte:])\n",
        "    print(\"Promedio de los factores de la sugerencia \",h_MAP,\" =\", promedio)\n",
        "    return(h_MAP)\n"
      ]
    },
    {
      "cell_type": "code",
      "execution_count": 120,
      "metadata": {},
      "outputs": [
        {
          "name": "stdout",
          "output_type": "stream",
          "text": [
            "Ingrese la frase dando ENTER luego de \u001b[3mcada palabra\u001b[0m.\n",
            "Ingrese sólo ENTER para aceptar la recomendación sugerida, o escriba la siguiente palabra y de ENTER\n",
            "Ingrese '.' para comenzar con una frase nueva.\n",
            "Ingrese '..' para terminar el proceso.\n",
            "Promedio de los factores de la sugerencia  no  = 0.033930189087056674\n",
            "saben \u001b[3mno\u001b[0m\n",
            "Promedio de los factores de la sugerencia  te  = 0.04524838485796101\n",
            "saben si \u001b[3mte\u001b[0m\n",
            "Promedio de los factores de la sugerencia  cero  = 0.03804583848327669\n",
            "saben si te \u001b[3mcero\u001b[0m\n",
            "Promedio de los factores de la sugerencia  cosas  = 0.011661685814601232\n",
            "saben si te cero \u001b[3mcosas\u001b[0m\n",
            "Promedio de los factores de la sugerencia  quiero  = 0.08444406718682036\n",
            "saben si te cero cosas \u001b[3mquiero\u001b[0m\n",
            "Promedio de los factores de la sugerencia  que  = 0.02482877297598434\n",
            "saben si te cero cosas quiero \u001b[3mque\u001b[0m\n",
            "Promedio de los factores de la sugerencia  yo  = 0.04761500916950444\n",
            "saben si te cero cosas quiero que \u001b[3myo\u001b[0m\n",
            "Promedio de los factores de la sugerencia  saber  = 0.058775652784000355\n",
            "saben si te cero cosas quiero que yo \u001b[3msaber\u001b[0m\n"
          ]
        }
      ],
      "source": [
        "##### LOOP PRINCIPAL #####\n",
        "\n",
        "print(\"Ingrese la frase dando ENTER luego de \\x1b[3mcada palabra\\x1b[0m.\")\n",
        "print(\"Ingrese sólo ENTER para aceptar la recomendación sugerida, o escriba la siguiente palabra y de ENTER\")\n",
        "print(\"Ingrese '.' para comenzar con una frase nueva.\")\n",
        "print(\"Ingrese '..' para terminar el proceso.\")\n",
        "\n",
        "frase = []\n",
        "diccionario = True #Parametro para sugerir con o sin diccionario\n",
        "palabra_sugerida = \"\"\n",
        "while 1:\n",
        "    palabra = input(\">> \")\n",
        "\n",
        "    if palabra == \"..\":\n",
        "      break\n",
        "\n",
        "    elif palabra == \".\":\n",
        "      print(\"----- Comenzando frase nueva -----\")\n",
        "      frase = []\n",
        "\n",
        "    elif palabra == \"\": # acepta última palabra sugerida\n",
        "      frase.append(palabra_sugerida)\n",
        "\n",
        "    else: # escribió una palabra\n",
        "      frase.append(palabra.lower())\n",
        "\n",
        "    if frase:\n",
        "      if diccionario:\n",
        "        palabra_sugerida = recomendacion_bayesiana_dict(frase)\n",
        "      else:\n",
        "        palabra_sugerida = recomendacion_bayesiana(frase)\n",
        "\n",
        "      frase_propuesta = frase.copy()\n",
        "      frase_propuesta.append(\"\\x1b[3m\"+ palabra_sugerida +\"\\x1b[0m\")\n",
        "\n",
        "      print(\" \".join(frase_propuesta))"
      ]
    },
    {
      "cell_type": "code",
      "execution_count": 63,
      "metadata": {},
      "outputs": [],
      "source": [
        "words2 = words.copy()"
      ]
    },
    {
      "cell_type": "code",
      "execution_count": 65,
      "metadata": {
        "colab": {
          "base_uri": "https://localhost:8080/"
        },
        "id": "VrHEaPPcj30i",
        "outputId": "33cfb55d-d899-4720-c22b-71dfe9f51303"
      },
      "outputs": [
        {
          "name": "stdout",
          "output_type": "stream",
          "text": [
            "Ingrese la frase dando ENTER luego de \u001b[3mcada palabra\u001b[0m.\n",
            "Ingrese sólo ENTER para aceptar la recomendación sugerida, o escriba la siguiente palabra y de ENTER\n",
            "Ingrese '.' para comenzar con una frase nueva.\n",
            "Ingrese '..' para terminar el proceso.\n"
          ]
        },
        {
          "name": "stdout",
          "output_type": "stream",
          "text": [
            "Promedio de los factores de la sugerencia  que  = 0.043846352857678114\n",
            "australopitecus \u001b[3mque\u001b[0m\n",
            "Promedio de los factores de la sugerencia  que  = 0.021923176928839057\n",
            "australopitecus aguaraguazú \u001b[3mque\u001b[0m\n",
            "Promedio de los factores de la sugerencia  que  = 0.021923176928839057\n",
            "australopitecus aguaraguazú intrepidamente \u001b[3mque\u001b[0m\n",
            "Promedio de los factores de la sugerencia  que  = 0.021923176928839057\n",
            "australopitecus aguaraguazú intrepidamente cabilan \u001b[3mque\u001b[0m\n",
            "----- Comenzando frase nueva -----\n",
            "Promedio de los factores de la sugerencia  intrepidamente  = 0.3334147834347437\n",
            "australopitecus \u001b[3mintrepidamente\u001b[0m\n",
            "Promedio de los factores de la sugerencia  intrepidamente  = 0.16670739221737185\n",
            "australopitecus aguaraguazu \u001b[3mintrepidamente\u001b[0m\n",
            "Promedio de los factores de la sugerencia  cabilan  = 0.16670739221737185\n",
            "australopitecus aguaraguazu intrepidamente \u001b[3mcabilan\u001b[0m\n",
            "Promedio de los factores de la sugerencia  pov  = 6.347095721760371e-05\n",
            "australopitecus aguaraguazu intrepidamente cabilan \u001b[3mpov\u001b[0m\n"
          ]
        }
      ],
      "source": [
        "##### LOOP CON REENTRENAMIENTO #####\n",
        "\n",
        "print(\"Ingrese la frase dando ENTER luego de \\x1b[3mcada palabra\\x1b[0m.\")\n",
        "print(\"Ingrese sólo ENTER para aceptar la recomendación sugerida, o escriba la siguiente palabra y de ENTER\")\n",
        "print(\"Ingrese '.' para comenzar con una frase nueva.\")\n",
        "print(\"Ingrese '..' para terminar el proceso.\")\n",
        "\n",
        "frase = []\n",
        "palabra_sugerida = \"\"\n",
        "while 1:\n",
        "    palabra = input(\">> \")\n",
        "\n",
        "    if palabra == \"..\":\n",
        "      break\n",
        "\n",
        "    elif palabra == \".\":\n",
        "      words2.extend(frase) # Agregamos las palabras de la nueva frase a la lista de mensajes\n",
        "      PD = Probabilidades_condicionales(words2, horizonte, m)\n",
        "      P = Priori(words2)\n",
        "      print(\"----- Comenzando frase nueva -----\")\n",
        "      frase = []\n",
        "\n",
        "    elif palabra == \"\": # acepta última palabra sugerida\n",
        "      frase.append(palabra_sugerida)\n",
        "\n",
        "    else: # escribió una palabra\n",
        "      frase.append(palabra.lower())\n",
        "\n",
        "    if frase:\n",
        "      palabra_sugerida = recomendacion_bayesiana(frase)\n",
        "\n",
        "      frase_propuesta = frase.copy()\n",
        "      frase_propuesta.append(\"\\x1b[3m\"+ palabra_sugerida +\"\\x1b[0m\")\n",
        "\n",
        "      print(\" \".join(frase_propuesta))\n",
        "\n",
        "\n",
        "\n"
      ]
    }
  ],
  "metadata": {
    "colab": {
      "provenance": []
    },
    "kernelspec": {
      "display_name": "Python 3",
      "name": "python3"
    },
    "language_info": {
      "codemirror_mode": {
        "name": "ipython",
        "version": 3
      },
      "file_extension": ".py",
      "mimetype": "text/x-python",
      "name": "python",
      "nbconvert_exporter": "python",
      "pygments_lexer": "ipython3",
      "version": "3.10.9"
    }
  },
  "nbformat": 4,
  "nbformat_minor": 0
}
