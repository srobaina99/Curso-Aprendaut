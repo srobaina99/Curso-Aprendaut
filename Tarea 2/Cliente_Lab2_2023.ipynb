{
  "cells": [
    {
      "cell_type": "code",
      "execution_count": 4,
      "metadata": {},
      "outputs": [],
      "source": [
        "import pandas as pd\n",
        "from collections import defaultdict\n",
        "from collections import Counter\n",
        "import re\n",
        "import math\n"
      ]
    },
    {
      "cell_type": "code",
      "execution_count": 5,
      "metadata": {},
      "outputs": [],
      "source": [
        "# Cargar el archivo de entrenamiento\n",
        "with open(\"C:/Users/santi/Documents/Maestría CDAA/Datos aprendaut/Chat de WhatsApp con Anita17_1_23-5_5_23.txt\", \"r\") as file:\n",
        "    chat = file.read()"
      ]
    },
    {
      "cell_type": "code",
      "execution_count": 32,
      "metadata": {},
      "outputs": [],
      "source": [
        "medio = len(chat)//2\n",
        "chat = chat[0:medio]"
      ]
    },
    {
      "cell_type": "code",
      "execution_count": 45,
      "metadata": {},
      "outputs": [],
      "source": [
        "# Procesamiento de del chat para obtener una lista de palabras\n",
        "lines = chat.split('\\n')\n",
        "words = []\n",
        "\n",
        "for line in lines:\n",
        "    \n",
        "    if \":\" in line:\n",
        "        message = line.rsplit(\":\", 1)[-1].strip()\n",
        "        message_clean = re.findall(r'[\\wáéíóúÁÉÍÓÚñÑ]+', message) \n",
        "        if not [\"Multimedia\", \"omitido\"] == message_clean: # sacamos el texto \"multimedia omitido\"\n",
        "            words.extend(word.lower() for word in message_clean) # conservamos las palabras pero en minusculas\n",
        "        "
      ]
    },
    {
      "cell_type": "code",
      "execution_count": 8,
      "metadata": {},
      "outputs": [],
      "source": [
        "def frases_de_horizonte(horizonte, words):\n",
        "    '''\n",
        "    Devuelve un diccionario con un key por palabra del vocabulario y valores las frases de largo horizonte que terminan en la palabra\n",
        "    '''\n",
        "    iter = list(set(words))\n",
        "    frases= {}\n",
        "    for target in iter: #Tomo las palabras para las que quiero las probab condicionales\n",
        "        # Length of sublists you want to find\n",
        "        n = horizonte\n",
        "        # listas de palabras con la palabra target\n",
        "        frases[target] = [words[max(i-n,0):i] for i in range(len(words)) if target == words[i]]\n",
        "    return frases\n",
        "\n"
      ]
    },
    {
      "cell_type": "code",
      "execution_count": 9,
      "metadata": {},
      "outputs": [],
      "source": [
        "def cuantos(b, a, frases):\n",
        "    '''\n",
        "    Cuenta la cantidad de frases que terminan en a tienen a b\n",
        "    '''\n",
        "    frases_con_b = 0\n",
        "    if a in frases:\n",
        "        for words in frases[a]:\n",
        "            if b in words:\n",
        "                frases_con_b += 1\n",
        "    return frases_con_b"
      ]
    },
    {
      "cell_type": "code",
      "execution_count": 10,
      "metadata": {},
      "outputs": [],
      "source": [
        "#Diccionario con las probabilidades a priori de las palabras\n",
        "def Priori(words):\n",
        "    '''\n",
        "    Calcula un diccionario con las probabilidades a priori de cada palabra\n",
        "    '''\n",
        "    P = {}\n",
        "    for palabra in list(set(words)):\n",
        "        P[palabra] = words.count(palabra)/len(words) #cantidad de ocurrencias de la palabra en todas las instancias\n",
        "    return P"
      ]
    },
    {
      "cell_type": "code",
      "execution_count": 11,
      "metadata": {},
      "outputs": [],
      "source": [
        "def Probabilidades_condicionales(words, horizonte, m):\n",
        "    '''\n",
        "    Calcula un diccionario con las probabilidades condicionales de cada palabra de estar en una frase de largo horizonte con cada otra palabra\n",
        "    '''\n",
        "    PD = {} #Diccionario con las probabilidades condicoinales m-estimador\n",
        "\n",
        "    frases = frases_de_horizonte(horizonte, words)\n",
        "\n",
        "    pal_unicas = list(set(words))\n",
        "\n",
        "    for a in pal_unicas: # P( _ | a)\n",
        "        PD[a]={}\n",
        "        itera = pal_unicas.copy()\n",
        "        itera.remove(a)\n",
        "        for b in itera: # P( b | a )\n",
        "            e = cuantos(b,a,frases) #frases con la palabra b que terminan en a\n",
        "            p = 1/len(pal_unicas) #probabilidad de una palabra\n",
        "            n = len(frases[a]) #frases que terminan con a\n",
        "            PD[a][b]= (e + m*p)/(n+m)\n",
        "    return PD"
      ]
    },
    {
      "cell_type": "code",
      "execution_count": 12,
      "metadata": {},
      "outputs": [],
      "source": [
        "horizonte = 2\n",
        "m = 2\n",
        "PD = Probabilidades_condicionales(words, horizonte, m)\n",
        "P = Priori(words)"
      ]
    },
    {
      "cell_type": "code",
      "execution_count": 13,
      "metadata": {},
      "outputs": [
        {
          "data": {
            "text/plain": [
              "False"
            ]
          },
          "execution_count": 13,
          "metadata": {},
          "output_type": "execute_result"
        }
      ],
      "source": [
        "\"cómo\" in PD[\"cómo\"]"
      ]
    },
    {
      "cell_type": "code",
      "execution_count": 14,
      "metadata": {},
      "outputs": [
        {
          "data": {
            "text/plain": [
              "1e-09"
            ]
          },
          "execution_count": 14,
          "metadata": {},
          "output_type": "execute_result"
        }
      ],
      "source": [
        "P_nada = 0.000000001\n",
        "PD[\"cómo\"].get(\"cómo\", P_nada)"
      ]
    },
    {
      "cell_type": "code",
      "execution_count": 18,
      "metadata": {},
      "outputs": [],
      "source": [
        "def recomendacion_bayesiana(frase):\n",
        "    D = frase   # Frase que será ingresada\n",
        "    \n",
        "    P_nada = 0.000000001  # valor pequeño por si la palabra no aparece en el diccionario\n",
        "    h_MAP = \"\" \n",
        "    p_MAP = float('-inf') ##variable que se utilizará para almacenar la probabilidad más alta encontrada hasta ahora.\n",
        "\n",
        "    for h in P: # me fijo en cada palabra posible\n",
        "        prob = math.log(P[h])\n",
        "        #print(\"------------ \\n P(\",h,\")\",\"{:.3f}\".format(prob), \" + \")\n",
        "        for d in D[-horizonte:]: #P(sugerencia) P(pal1|sugerencia) ... P(paln|sugerencia)\n",
        "            #print(\"P(\",d,\"|\",h, \")\",\"{:.3f}\".format(math.log(PD[h].get(d, P_nada))), \" + \")\n",
        "            prob = prob + math.log(PD[h].get(d, P_nada))\n",
        "        if prob > p_MAP:\n",
        "            h_MAP, p_MAP = h, prob\n",
        "            #print(\"Probabilidad de \", h, \" = \", prob)\n",
        "    #print(\"--------\\n --->\",h_MAP, p_MAP, \"<---\\n -------------------\")\n",
        "    return(h_MAP)\n"
      ]
    },
    {
      "cell_type": "code",
      "execution_count": 19,
      "metadata": {
        "colab": {
          "base_uri": "https://localhost:8080/"
        },
        "id": "VrHEaPPcj30i",
        "outputId": "33cfb55d-d899-4720-c22b-71dfe9f51303"
      },
      "outputs": [
        {
          "name": "stdout",
          "output_type": "stream",
          "text": [
            "Ingrese la frase dando ENTER luego de \u001b[3mcada palabra\u001b[0m.\n",
            "Ingrese sólo ENTER para aceptar la recomendación sugerida, o escriba la siguiente palabra y de ENTER\n",
            "Ingrese '.' para comenzar con una frase nueva.\n",
            "Ingrese '..' para terminar el proceso.\n",
            "hola \u001b[3mani\u001b[0m\n",
            "hola ani \u001b[3mcómo\u001b[0m\n",
            "hola ani cómo \u001b[3mandas\u001b[0m\n",
            "hola ani cómo andas \u001b[3mfelices\u001b[0m\n",
            "----- Comenzando frase nueva -----\n",
            "felices \u001b[3mpascuas\u001b[0m\n",
            "felices pascuas \u001b[3msoy\u001b[0m\n",
            "felices pascuas soy \u001b[3manita\u001b[0m\n",
            "felices pascuas soy anita \u001b[3manimadora\u001b[0m\n",
            "felices pascuas soy anita animadora \u001b[3mde\u001b[0m\n",
            "felices pascuas soy anita animadora de \u001b[3mjms\u001b[0m\n",
            "felices pascuas soy anita animadora de jms \u001b[3mquinto\u001b[0m\n",
            "felices pascuas soy anita animadora de jms quinto \u001b[3mes\u001b[0m\n",
            "----- Comenzando frase nueva -----\n",
            "te \u001b[3ma\u001b[0m\n",
            "te a \u001b[3mla\u001b[0m\n",
            "te a la \u001b[3mcasa\u001b[0m\n",
            "te a la casa \u001b[3mde\u001b[0m\n",
            "te a la casa de \u001b[3mnoche\u001b[0m\n",
            "te a la casa de noche \u001b[3mla\u001b[0m\n",
            "te a la casa de noche la \u001b[3mpeor\u001b[0m\n",
            "te a la casa de noche la peor \u001b[3mverdad\u001b[0m\n"
          ]
        }
      ],
      "source": [
        "##### LOOP PRINCIPAL #####\n",
        "\n",
        "print(\"Ingrese la frase dando ENTER luego de \\x1b[3mcada palabra\\x1b[0m.\")\n",
        "print(\"Ingrese sólo ENTER para aceptar la recomendación sugerida, o escriba la siguiente palabra y de ENTER\")\n",
        "print(\"Ingrese '.' para comenzar con una frase nueva.\")\n",
        "print(\"Ingrese '..' para terminar el proceso.\")\n",
        "\n",
        "frase = []\n",
        "palabra_sugerida = \"\"\n",
        "while 1:\n",
        "    palabra = input(\">> \")\n",
        "\n",
        "    if palabra == \"..\":\n",
        "      break\n",
        "\n",
        "    elif palabra == \".\":\n",
        "      print(\"----- Comenzando frase nueva -----\")\n",
        "      frase = []\n",
        "\n",
        "    elif palabra == \"\": # acepta última palabra sugerida\n",
        "      frase.append(palabra_sugerida)\n",
        "\n",
        "    else: # escribió una palabra\n",
        "      frase.append(palabra)\n",
        "\n",
        "    if frase:\n",
        "      palabra_sugerida = recomendacion_bayesiana(frase)\n",
        "\n",
        "      frase_propuesta = frase.copy()\n",
        "      frase_propuesta.append(\"\\x1b[3m\"+ palabra_sugerida +\"\\x1b[0m\")\n",
        "\n",
        "      print(\" \".join(frase_propuesta))\n",
        "\n",
        "\n",
        "\n"
      ]
    }
  ],
  "metadata": {
    "colab": {
      "provenance": []
    },
    "kernelspec": {
      "display_name": "Python 3",
      "name": "python3"
    },
    "language_info": {
      "codemirror_mode": {
        "name": "ipython",
        "version": 3
      },
      "file_extension": ".py",
      "mimetype": "text/x-python",
      "name": "python",
      "nbconvert_exporter": "python",
      "pygments_lexer": "ipython3",
      "version": "3.10.9"
    }
  },
  "nbformat": 4,
  "nbformat_minor": 0
}
