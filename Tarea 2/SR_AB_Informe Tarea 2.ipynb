{
 "cells": [
  {
   "cell_type": "markdown",
   "metadata": {},
   "source": [
    "# Entrega L2 - Aprendizaje Bayesiano\n",
    "\n",
    "### Grupo 38:\n",
    "     - S. Robaina  C.I... 5.310.579-8\n",
    "     - A. Baptista C.I... 4.883.322-3\n"
   ]
  },
  {
   "cell_type": "markdown",
   "metadata": {},
   "source": [
    "##  Introducción"
   ]
  },
  {
   "cell_type": "markdown",
   "metadata": {},
   "source": [
    "Se busca probar el modelo algoritmo de clasificación de naive bayes, aplicando al contexto de clasificación de texto y para eso"
   ]
  },
  {
   "cell_type": "markdown",
   "metadata": {},
   "source": [
    "## 1. Datos"
   ]
  },
  {
   "cell_type": "markdown",
   "metadata": {},
   "source": [
    "El conjunto de datos de entrenamiento fue extraído de la aplicación de mensajería _WhatsApp_, y cuenta con  mensajes compuestos por un total de  palabras."
   ]
  },
  {
   "cell_type": "markdown",
   "metadata": {},
   "source": [
    "## 2. Objetivo"
   ]
  },
  {
   "cell_type": "markdown",
   "metadata": {},
   "source": [
    "*   Implementar el algoritmo _Naive Bayes_ para desarrollar un modelo que permita predecir palabras.\n",
    "\n",
    "*   Comparar su desempeño variando el hiperparámetro horizonte(N).\n",
    "\n",
    "*   Evaluar su capacidad de aprendizaje realizando reentrenando el modelo."
   ]
  },
  {
   "cell_type": "markdown",
   "metadata": {},
   "source": [
    "## 3. Diseño"
   ]
  },
  {
   "cell_type": "markdown",
   "metadata": {},
   "source": [
    "### 3.1 Preprocesamiento de datos\n",
    "*   Como el formato en el que se exportan los mensajes de _WhatsApp_ es el siguiente:\n",
    "    *   D/M/AA HH:MM - Nombre: (mensaje)\n",
    "    \n",
    "    Se extrajeron los mensajes conservando únicamente el contenido posterior a \":\" en cada línea. Luego se generó una lista compuesta de las palabras de los mensajes conservados.\n",
    "\n",
    "*   Al exportar los mensajes de _WhatsApp_ a un archivo de texto se incluyen algunas frases que no son mensajes como tal, por ejemplo: \"Se eliminó este mensaje\", \"Multimedia omitido\", etc. Evidenciamos que estas frases pueden tener un peso estadístico considerable, por lo que decidimos eliminarlas de los datos para no introducir un sesgo en el modelo generado.\n",
    "\n",
    "*   Como el lenguaje en _WhatsApp_ no suele ser muy riguroso en términos de errores ortográficos, situación que introduce ruido a nuestros datos. Para resolver este problema probamos cruzar las palabras con un diccionario en español (disponible en: https://github.com/words/an-array-of-spanish-words), descartando aquellas palabras no presentes en el mismo. \n",
    "El problema es que este diccionario no incluye palabras con tilde, por lo que elimina un gran número de palabras que no contenían errores ortográficos. Para lidiar con esta situación nos planteamos dos posibilidades:\n",
    "    *   Que las palabras que no se encontraran en el diccionario fueran corregidas utilizando la biblioteca _pyspellchecker_. Esta opción se descarta debido a que el tiempo de procesamiento era demasiado elevado.\n",
    "    \n",
    "    *   Eliminar los tildes de las palabras previo a cruzarlas con el diccionario. Reconocemos que esta alternativa nos genera una limitante importante ya que la acentuación es de vital importancia en el idioma español. De todas formas se probó esta alternativa y se la comparó a los resultados utilizando datos sin corrección ortográfica, con el fin de experimentar y evaluar el ruido introducido por errores ortográficos.\n",
    "\n",
    "### 3.2 Evaluación\n",
    "*   El desempeño de los distintos modelos generados se evaluó mediante el ingreso de 5 inicios de frases diferentes (por ejemplo: \"buenas\", \"si yo opino que\", etc.), permitiendo al modelo hacer hasta 5 sugerencias de palabras luego de ingresarlas. De las sugerencias realizadas por los modelos se evaluó: \n",
    "\n",
    "    *   Confiabilidad de la sugerencia: Se calcula el promedio de los factores de probabilidad de cada palabra sugerida. Esto permite que las métricas obtenidas para distintos valores de horizonte(N) sean más comparables, especialmente para valores de N más grandes. Para comparar el desempeño de la frase generada en su totalidad, se realizó un promedio de las confiabilidades de las palabras sugeridas. \n",
    "\n",
    "    *   Coherencia o sentido de la sugerencia: Se asignó un valor subjetivo del 1 al 5 que evaluará el nivel de coherencia de las frases generadas por los modelos al aceptar las 5 sugerencias. "
   ]
  },
  {
   "cell_type": "markdown",
   "metadata": {},
   "source": [
    "## 4. Experimentación"
   ]
  },
  {
   "cell_type": "markdown",
   "metadata": {},
   "source": []
  },
  {
   "cell_type": "markdown",
   "metadata": {},
   "source": []
  },
  {
   "cell_type": "markdown",
   "metadata": {},
   "source": [
    "## 6. Evaluación de los modelos\n",
    "\n",
    "* "
   ]
  },
  {
   "cell_type": "markdown",
   "metadata": {},
   "source": []
  },
  {
   "cell_type": "markdown",
   "metadata": {},
   "source": [
    "## 7. Conclusiones"
   ]
  },
  {
   "cell_type": "markdown",
   "metadata": {},
   "source": []
  }
 ],
 "metadata": {
  "kernelspec": {
   "display_name": "Python 3",
   "language": "python",
   "name": "python3"
  },
  "language_info": {
   "codemirror_mode": {
    "name": "ipython",
    "version": 3
   },
   "file_extension": ".py",
   "mimetype": "text/x-python",
   "name": "python",
   "nbconvert_exporter": "python",
   "pygments_lexer": "ipython3",
   "version": "3.7.0"
  }
 },
 "nbformat": 4,
 "nbformat_minor": 2
}
