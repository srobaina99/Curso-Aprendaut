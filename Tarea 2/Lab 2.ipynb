{
 "cells": [
  {
   "cell_type": "code",
   "execution_count": 72,
   "metadata": {},
   "outputs": [],
   "source": [
    "import pandas as pd\n",
    "from collections import defaultdict\n",
    "import nltk\n",
    "from collections import Counter\n",
    "import re\n",
    "import spacy\n"
   ]
  },
  {
   "cell_type": "code",
   "execution_count": 73,
   "metadata": {},
   "outputs": [],
   "source": [
    "with open(\"C:/Users/santi/Documents/Maestría CDAA/Datos aprendaut/Chat de WhatsApp con Anita17_1_23-5_5_23.txt\", \"r\") as file:\n",
    "    chat = file.read()\n"
   ]
  },
  {
   "cell_type": "code",
   "execution_count": 94,
   "metadata": {},
   "outputs": [],
   "source": [
    "# Define a regular expression pattern to match message content\n",
    "# The pattern assumes that messages start with a date timestamp in the format \"dd/mm/yy hh:mm - Name:\"\n",
    "# and end with a newline character\n",
    "message_pattern = r'\\d+/\\d+/\\d+ \\d+:\\d+ - [^:]+: (.+)'\n",
    "\n",
    "# Use the re.findall function to find all matching lines and capture only the message content\n",
    "messages = re.findall(message_pattern, chat)\n",
    "\n",
    "# Combine the extracted messages into a single text block\n",
    "message_text = '\\n'.join(messages)\n",
    "\n",
    "# Define a regular expression pattern to match and remove non-alphanumeric characters\n",
    "non_alphanumeric_pattern = r'[^a-zA-Z0-9\\sáéíóúñÁÉÍÓÚÑñ]'\n",
    "\n",
    "# Use re.sub to replace non-alphanumeric characters with whitespace\n",
    "text = re.sub(non_alphanumeric_pattern, ' ', message_text)\n",
    "\n",
    "# Split the cleaned text\n",
    "allwords = text.split()"
   ]
  },
  {
   "cell_type": "code",
   "execution_count": 95,
   "metadata": {},
   "outputs": [],
   "source": [
    "nlp = spacy.load(\"es_core_news_sm\")\n",
    "nlp.max_length = 2000000\n",
    "\n",
    "# Process the entire text with spaCy\n",
    "doc = nlp(text)\n",
    "\n",
    "# Filter out Spanish stopwords and non-alphanumeric characters\n",
    "filtered_words = [token.text for token in doc if not (token.is_stop or re.search(r'[^a-zA-Z0-9\\s]', token.text))]\n",
    "\n",
    "# Join the filtered words into a cleaned text\n",
    "cleaned_text = ' '.join(filtered_words)\n",
    "\n",
    "# Split the cleaned text\n",
    "words = cleaned_text.split()"
   ]
  },
  {
   "cell_type": "code",
   "execution_count": 96,
   "metadata": {},
   "outputs": [],
   "source": [
    "words = cleaned_text.split()"
   ]
  }
 ],
 "metadata": {
  "kernelspec": {
   "display_name": "base",
   "language": "python",
   "name": "python3"
  },
  "language_info": {
   "codemirror_mode": {
    "name": "ipython",
    "version": 3
   },
   "file_extension": ".py",
   "mimetype": "text/x-python",
   "name": "python",
   "nbconvert_exporter": "python",
   "pygments_lexer": "ipython3",
   "version": "3.10.9"
  },
  "orig_nbformat": 4
 },
 "nbformat": 4,
 "nbformat_minor": 2
}
