{
  "cells": [
    {
      "cell_type": "code",
      "execution_count": 3,
      "metadata": {},
      "outputs": [],
      "source": [
        "import pandas as pd\n",
        "from collections import defaultdict\n",
        "from collections import Counter\n",
        "import re\n",
        "import math\n",
        "import json"
      ]
    },
    {
      "cell_type": "code",
      "execution_count": 2,
      "metadata": {},
      "outputs": [],
      "source": [
        "# Cargar el archivo de entrenamiento\n",
        "with open(\"chat.txt\", \"r\") as file:\n",
        "    chat = file.read()"
      ]
    },
    {
      "cell_type": "code",
      "execution_count": 13,
      "metadata": {},
      "outputs": [],
      "source": [
        "# Para utilizar menos datos en caso de que sea lento el procesamiento\n",
        "#medio = len(chat)//2\n",
        "#chat = chat[:medio]"
      ]
    },
    {
      "cell_type": "code",
      "execution_count": 14,
      "metadata": {},
      "outputs": [],
      "source": [
        "# Procesamiento de del chat para obtener una lista de palabras\n",
        "lines = chat.split('\\n')\n",
        "words = []\n",
        "\n",
        "frases_eliminar = [\"Creó el grupo\", \"Se eliminó este mensaje\", \"Multimedia omitido\", \"Se editó este mensaje\", \"Se te añadió al grupo\", \"Se unió usando el enlace de invitación de este grupo\", \"Salió del grupo\", \"Añadió a\"]\n",
        "\n",
        "eliminar = [frase.split() for frase in frases_eliminar]\n",
        "\n",
        "for line in lines:\n",
        "    \n",
        "    if \":\" in line:\n",
        "        message = line.rsplit(\":\", 1)[-1].strip()\n",
        "        message_clean = re.findall(r'[\\wáéíóúÁÉÍÓÚñÑ]+', message) \n",
        "        \n",
        "        if not message_clean in eliminar: # sacamos los textos que no son mensajes\n",
        "            words.extend(word.lower() for word in message_clean) # conservamos las palabras pero en minusculas\n",
        "        "
      ]
    },
    {
      "cell_type": "code",
      "execution_count": 15,
      "metadata": {},
      "outputs": [],
      "source": [
        "# Cargar el diccionario en español\n",
        "with open(\"index.json\", \"r\", encoding=\"utf-8\") as json_file:\n",
        "    diccionario_esp = json.load(json_file)\n"
      ]
    },
    {
      "cell_type": "code",
      "execution_count": 16,
      "metadata": {},
      "outputs": [],
      "source": [
        "def eliminar_tildes(palabra):\n",
        "    tildes = {'á': 'a', 'é': 'e', 'í': 'i', 'ó': 'o', 'ú': 'u'}\n",
        "    return ''.join(tildes.get(char, char) for char in palabra)\n",
        "\n",
        "# Eliminar tildes de las palabras\n",
        "words_sin_tildes = [eliminar_tildes(word) for word in words]\n",
        "\n",
        "# Aplicando criterio de todo o nada\n",
        "\n",
        "# Lista para almacenar las palabras corregidas\n",
        "words_corr_st = []\n",
        "\n",
        "# Corregir errores ortográficos\n",
        "for word in words_sin_tildes:\n",
        "    # Si la palabra está en el diccionario personalizado se guarda\n",
        "    if word in diccionario_esp:\n",
        "        words_corr_st.append(word)"
      ]
    },
    {
      "cell_type": "code",
      "execution_count": 17,
      "metadata": {},
      "outputs": [],
      "source": [
        "def frases_de_horizonte(horizonte, words):\n",
        "    '''\n",
        "    Devuelve un diccionario con un key por palabra del vocabulario y valores las frases de largo horizonte que terminan en dicha palabra\n",
        "    '''\n",
        "    iter = list(set(words))\n",
        "    frases= {}\n",
        "    for target in iter: #Tomo las palabras para las que quiero las probab condicionales\n",
        "        # Length of sublists you want to find\n",
        "        n = horizonte\n",
        "        # listas de palabras con la palabra target\n",
        "        frases[target] = [words[max(i-n,0):i] for i in range(len(words)) if target == words[i]]\n",
        "    return frases\n",
        "\n"
      ]
    },
    {
      "cell_type": "code",
      "execution_count": 61,
      "metadata": {},
      "outputs": [],
      "source": [
        "frases = frases_de_horizonte(4,words) "
      ]
    },
    {
      "cell_type": "code",
      "execution_count": 60,
      "metadata": {},
      "outputs": [
        {
          "name": "stdout",
          "output_type": "stream",
          "text": [
            "Tengo  2543  palabras únicas\n",
            "Tengo  14700  de frases de largo 4\n",
            "En promedio cada palabra tiene  5.780574125049155  frases\n"
          ]
        }
      ],
      "source": [
        "cant_unicas = len(list(set(words)))\n",
        "print(\"Tengo \",cant_unicas,\" palabras únicas\")\n",
        "\n",
        "# calculando la cantidad de frases (es el mismo para cualquier largo de clases)\n",
        "total = 0\n",
        "for val in frases.values():\n",
        "    total = total + len(val) \n",
        "print(\"Tengo \",total,\" de frases de largo 4\")\n",
        "print(\"En promedio cada palabra tiene \", total/cant_unicas, \" frases\" )"
      ]
    },
    {
      "cell_type": "code",
      "execution_count": 18,
      "metadata": {},
      "outputs": [],
      "source": [
        "def cuantos(b, a, frases):\n",
        "    '''\n",
        "    Cuenta la cantidad de frases que terminan en a tienen a b\n",
        "    '''\n",
        "    frases_con_b = 0\n",
        "    if a in frases:\n",
        "        for words in frases[a]:\n",
        "            if b in words:\n",
        "                frases_con_b += 1\n",
        "    return frases_con_b"
      ]
    },
    {
      "cell_type": "code",
      "execution_count": 19,
      "metadata": {},
      "outputs": [],
      "source": [
        "#Diccionario con las probabilidades a priori de las palabras\n",
        "def Priori(words):\n",
        "    '''\n",
        "    Calcula un diccionario con las probabilidades a priori de cada palabra\n",
        "    '''\n",
        "    P = {}\n",
        "    for palabra in list(set(words)):\n",
        "        P[palabra] = words.count(palabra)/len(words) #cantidad de ocurrencias de la palabra en todas las instancias\n",
        "    return P"
      ]
    },
    {
      "cell_type": "code",
      "execution_count": 20,
      "metadata": {},
      "outputs": [],
      "source": [
        "def Probabilidades_condicionales(words, horizonte, m):\n",
        "    '''\n",
        "    Calcula un diccionario con las probabilidades condicionales de cada palabra de estar en una frase de largo horizonte con cada otra palabra\n",
        "    '''\n",
        "    PD = {} #Diccionario con las probabilidades condicoinales m-estimador\n",
        "\n",
        "    frases = frases_de_horizonte(horizonte, words)\n",
        "\n",
        "    pal_unicas = list(set(words))\n",
        "\n",
        "    for a in pal_unicas: # P( _ | a)\n",
        "        PD[a]={}\n",
        "        itera = pal_unicas.copy()\n",
        "        itera.remove(a)\n",
        "        for b in itera: # P( b | a )\n",
        "            e = cuantos(b,a,frases) #frases con la palabra b que terminan en a\n",
        "            p = 1/len(pal_unicas) #probabilidad de una palabra\n",
        "            n = len(frases[a]) #frases que terminan con a\n",
        "            PD[a][b]= (e + m*p)/(n+m)\n",
        "    return PD"
      ]
    },
    {
      "cell_type": "code",
      "execution_count": 71,
      "metadata": {},
      "outputs": [],
      "source": [
        "horizonte = 4\n",
        "m = 4\n",
        "PD = Probabilidades_condicionales(words, horizonte, m) # Entrenamiento sin diccionario\n",
        "P = Priori(words)"
      ]
    },
    {
      "cell_type": "code",
      "execution_count": 37,
      "metadata": {},
      "outputs": [],
      "source": [
        "def recomendacion_bayesiana(frase):\n",
        "    D = frase   # Frase que será ingresada\n",
        "    \n",
        "    P_nada = 0.000000001  # valor pequeño por si la palabra no aparece en el diccionario\n",
        "    h_MAP = \"\" \n",
        "    p_MAP = float('-inf') ##variable que se utilizará para almacenar la probabilidad más alta encontrada hasta ahora.\n",
        "\n",
        "    for h in P: # me fijo en cada palabra posible\n",
        "        prome = P[h]\n",
        "        prob = math.log(P[h])\n",
        "        for d in D[-horizonte:]:\n",
        "            prome = prome + PD[h].get(d, P_nada)\n",
        "            prob = prob + math.log(PD[h].get(d, P_nada)) #log(P(sugerencia))+log(P(palabra1|sugerencia))+...+log(P(palabran|sugerencia))\n",
        "        if prob > p_MAP:\n",
        "            promedio = prome # Guardo el promedio de los factores de h_MAP\n",
        "            h_MAP, p_MAP = h, prob\n",
        "    promedio = promedio/len(D[-horizonte:])\n",
        "    print(\"Promedio de los factores de la sugerencia \",h_MAP,\" =\", promedio)\n",
        "    return(h_MAP)\n"
      ]
    },
    {
      "cell_type": "code",
      "execution_count": 66,
      "metadata": {},
      "outputs": [],
      "source": [
        "horizonte_d = 4\n",
        "m = 4\n",
        "PD_dict = Probabilidades_condicionales(words_corr_st, horizonte_d, m) # Entrenamiento con diccionario\n",
        "P_dict = Priori(words_corr_st)"
      ]
    },
    {
      "cell_type": "code",
      "execution_count": 38,
      "metadata": {},
      "outputs": [],
      "source": [
        "def recomendacion_bayesiana_dict(frase):\n",
        "    D = frase   # Frase que será ingresada\n",
        "    \n",
        "    P_nada = 0.000000001  # valor pequeño por si la palabra no aparece en el diccionario\n",
        "    h_MAP = \"\" \n",
        "    p_MAP = float('-inf') ##variable que se utilizará para almacenar la probabilidad más alta encontrada hasta ahora.\n",
        "\n",
        "    for h in P_dict: # me fijo en cada palabra posible\n",
        "        prome = P_dict[h]\n",
        "        prob = math.log(P_dict[h])\n",
        "        for d in D[-horizonte:]:\n",
        "            prome = prome + PD_dict[h].get(d, P_nada)\n",
        "            prob = prob + math.log(PD_dict[h].get(d, P_nada)) #log(P(sugerencia))+log(P(palabra1|sugerencia))+...+log(P(palabran|sugerencia))\n",
        "        if prob > p_MAP:\n",
        "            promedio = prome # Guardo el promedio de los factores de h_MAP\n",
        "            h_MAP, p_MAP = h, prob\n",
        "    promedio = promedio/len(D[-horizonte:])\n",
        "    print(\"Promedio de los factores de la sugerencia \",h_MAP,\" =\", promedio)\n",
        "    return(h_MAP)\n"
      ]
    },
    {
      "cell_type": "code",
      "execution_count": 73,
      "metadata": {},
      "outputs": [
        {
          "name": "stdout",
          "output_type": "stream",
          "text": [
            "Ingrese la frase dando ENTER luego de \u001b[3mcada palabra\u001b[0m.\n",
            "Ingrese sólo ENTER para aceptar la recomendación sugerida, o escriba la siguiente palabra y de ENTER\n",
            "Ingrese '.' para comenzar con una frase nueva.\n",
            "Ingrese '..' para terminar el proceso.\n",
            "Promedio de los factores de la sugerencia  la  = 0.02695668638176513\n",
            "hola \u001b[3mla\u001b[0m\n",
            "Promedio de los factores de la sugerencia  la  = 0.03507639871694064\n",
            "hola como \u001b[3mla\u001b[0m\n",
            "Promedio de los factores de la sugerencia  yo  = 0.02060755455123645\n",
            "hola como andan \u001b[3myo\u001b[0m\n",
            "Promedio de los factores de la sugerencia  sali  = 0.09408323283069907\n",
            "hola como andan yo \u001b[3msali\u001b[0m\n",
            "Promedio de los factores de la sugerencia  poquito  = 0.04805379358811644\n",
            "hola como andan yo sali \u001b[3mpoquito\u001b[0m\n",
            "Promedio de los factores de la sugerencia  mas  = 0.026701765080661244\n",
            "hola como andan yo sali poquito \u001b[3mmas\u001b[0m\n",
            "Promedio de los factores de la sugerencia  porque  = 0.03737571249909689\n",
            "hola como andan yo sali poquito mas \u001b[3mporque\u001b[0m\n",
            "Promedio de los factores de la sugerencia  de  = 0.021547023347765832\n",
            "hola como andan yo sali poquito mas porque \u001b[3mde\u001b[0m\n",
            "Promedio de los factores de la sugerencia  claro  = 0.05940902840849557\n",
            "hola como andan yo sali poquito mas porque de \u001b[3mclaro\u001b[0m\n"
          ]
        }
      ],
      "source": [
        "##### LOOP PRINCIPAL #####\n",
        "\n",
        "print(\"Ingrese la frase dando ENTER luego de \\x1b[3mcada palabra\\x1b[0m.\")\n",
        "print(\"Ingrese sólo ENTER para aceptar la recomendación sugerida, o escriba la siguiente palabra y de ENTER\")\n",
        "print(\"Ingrese '.' para comenzar con una frase nueva.\")\n",
        "print(\"Ingrese '..' para terminar el proceso.\")\n",
        "\n",
        "frase = []\n",
        "diccionario = True #Parametro para sugerir con o sin diccionario\n",
        "palabra_sugerida = \"\"\n",
        "while 1:\n",
        "    palabra = input(\">> \")\n",
        "\n",
        "    if palabra == \"..\":\n",
        "      break\n",
        "\n",
        "    elif palabra == \".\":\n",
        "      print(\"----- Comenzando frase nueva -----\")\n",
        "      frase = []\n",
        "\n",
        "    elif palabra == \"\": # acepta última palabra sugerida\n",
        "      frase.append(palabra_sugerida)\n",
        "\n",
        "    else: # escribió una palabra\n",
        "      frase.append(palabra.lower())\n",
        "\n",
        "    if frase:\n",
        "      if diccionario:\n",
        "        palabra_sugerida = recomendacion_bayesiana_dict(frase)\n",
        "      else:\n",
        "        palabra_sugerida = recomendacion_bayesiana(frase)\n",
        "\n",
        "      frase_propuesta = frase.copy()\n",
        "      frase_propuesta.append(\"\\x1b[3m\"+ palabra_sugerida +\"\\x1b[0m\")\n",
        "\n",
        "      print(\" \".join(frase_propuesta))"
      ]
    },
    {
      "cell_type": "code",
      "execution_count": 26,
      "metadata": {},
      "outputs": [],
      "source": [
        "words2 = words.copy()"
      ]
    },
    {
      "cell_type": "code",
      "execution_count": 27,
      "metadata": {
        "colab": {
          "base_uri": "https://localhost:8080/"
        },
        "id": "VrHEaPPcj30i",
        "outputId": "33cfb55d-d899-4720-c22b-71dfe9f51303"
      },
      "outputs": [
        {
          "name": "stdout",
          "output_type": "stream",
          "text": [
            "Ingrese la frase dando ENTER luego de \u001b[3mcada palabra\u001b[0m.\n",
            "Ingrese sólo ENTER para aceptar la recomendación sugerida, o escriba la siguiente palabra y de ENTER\n",
            "Ingrese '.' para comenzar con una frase nueva.\n",
            "Ingrese '..' para terminar el proceso.\n"
          ]
        }
      ],
      "source": [
        "##### LOOP CON REENTRENAMIENTO #####\n",
        "\n",
        "print(\"Ingrese la frase dando ENTER luego de \\x1b[3mcada palabra\\x1b[0m.\")\n",
        "print(\"Ingrese sólo ENTER para aceptar la recomendación sugerida, o escriba la siguiente palabra y de ENTER\")\n",
        "print(\"Ingrese '.' para comenzar con una frase nueva.\")\n",
        "print(\"Ingrese '..' para terminar el proceso.\")\n",
        "\n",
        "frase = []\n",
        "palabra_sugerida = \"\"\n",
        "while 1:\n",
        "    palabra = input(\">> \")\n",
        "\n",
        "    if palabra == \"..\":\n",
        "      break\n",
        "\n",
        "    elif palabra == \".\":\n",
        "      words2.extend(frase) # Agregamos las palabras de la nueva frase a la lista de mensajes\n",
        "      PD = Probabilidades_condicionales(words2, horizonte, m)\n",
        "      P = Priori(words2)\n",
        "      print(\"----- Comenzando frase nueva -----\")\n",
        "      frase = []\n",
        "\n",
        "    elif palabra == \"\": # acepta última palabra sugerida\n",
        "      frase.append(palabra_sugerida)\n",
        "\n",
        "    else: # escribió una palabra\n",
        "      frase.append(palabra.lower())\n",
        "\n",
        "    if frase:\n",
        "      palabra_sugerida = recomendacion_bayesiana(frase)\n",
        "\n",
        "      frase_propuesta = frase.copy()\n",
        "      frase_propuesta.append(\"\\x1b[3m\"+ palabra_sugerida +\"\\x1b[0m\")\n",
        "\n",
        "      print(\" \".join(frase_propuesta))\n",
        "\n",
        "\n",
        "\n"
      ]
    }
  ],
  "metadata": {
    "colab": {
      "provenance": []
    },
    "kernelspec": {
      "display_name": "Python 3",
      "name": "python3"
    },
    "language_info": {
      "codemirror_mode": {
        "name": "ipython",
        "version": 3
      },
      "file_extension": ".py",
      "mimetype": "text/x-python",
      "name": "python",
      "nbconvert_exporter": "python",
      "pygments_lexer": "ipython3",
      "version": "3.10.9"
    }
  },
  "nbformat": 4,
  "nbformat_minor": 0
}
