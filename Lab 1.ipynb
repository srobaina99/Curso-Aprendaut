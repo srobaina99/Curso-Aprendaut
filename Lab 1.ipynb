{
 "cells": [
  {
   "cell_type": "code",
   "execution_count": 3,
   "metadata": {},
   "outputs": [],
   "source": [
    "import pandas as pd\n",
    "import numpy as np\n",
    "from sklearn.model_selection import train_test_split\n",
    "import math"
   ]
  },
  {
   "cell_type": "code",
   "execution_count": 4,
   "metadata": {},
   "outputs": [
    {
     "data": {
      "text/html": [
       "<div>\n",
       "<style scoped>\n",
       "    .dataframe tbody tr th:only-of-type {\n",
       "        vertical-align: middle;\n",
       "    }\n",
       "\n",
       "    .dataframe tbody tr th {\n",
       "        vertical-align: top;\n",
       "    }\n",
       "\n",
       "    .dataframe thead th {\n",
       "        text-align: right;\n",
       "    }\n",
       "</style>\n",
       "<table border=\"1\" class=\"dataframe\">\n",
       "  <thead>\n",
       "    <tr style=\"text-align: right;\">\n",
       "      <th></th>\n",
       "      <th>Marital status</th>\n",
       "      <th>Application mode</th>\n",
       "      <th>Application order</th>\n",
       "      <th>Course</th>\n",
       "      <th>Daytime/evening attendance\\t</th>\n",
       "      <th>Previous qualification</th>\n",
       "      <th>Previous qualification (grade)</th>\n",
       "      <th>Nacionality</th>\n",
       "      <th>Mother's qualification</th>\n",
       "      <th>Father's qualification</th>\n",
       "      <th>...</th>\n",
       "      <th>Curricular units 2nd sem (credited)</th>\n",
       "      <th>Curricular units 2nd sem (enrolled)</th>\n",
       "      <th>Curricular units 2nd sem (evaluations)</th>\n",
       "      <th>Curricular units 2nd sem (approved)</th>\n",
       "      <th>Curricular units 2nd sem (grade)</th>\n",
       "      <th>Curricular units 2nd sem (without evaluations)</th>\n",
       "      <th>Unemployment rate</th>\n",
       "      <th>Inflation rate</th>\n",
       "      <th>GDP</th>\n",
       "      <th>Target</th>\n",
       "    </tr>\n",
       "  </thead>\n",
       "  <tbody>\n",
       "    <tr>\n",
       "      <th>0</th>\n",
       "      <td>1</td>\n",
       "      <td>17</td>\n",
       "      <td>5</td>\n",
       "      <td>171</td>\n",
       "      <td>1</td>\n",
       "      <td>1</td>\n",
       "      <td>122.0</td>\n",
       "      <td>1</td>\n",
       "      <td>19</td>\n",
       "      <td>12</td>\n",
       "      <td>...</td>\n",
       "      <td>0</td>\n",
       "      <td>0</td>\n",
       "      <td>0</td>\n",
       "      <td>0</td>\n",
       "      <td>0.000000</td>\n",
       "      <td>0</td>\n",
       "      <td>10.8</td>\n",
       "      <td>1.4</td>\n",
       "      <td>1.74</td>\n",
       "      <td>Dropout</td>\n",
       "    </tr>\n",
       "    <tr>\n",
       "      <th>1</th>\n",
       "      <td>1</td>\n",
       "      <td>15</td>\n",
       "      <td>1</td>\n",
       "      <td>9254</td>\n",
       "      <td>1</td>\n",
       "      <td>1</td>\n",
       "      <td>160.0</td>\n",
       "      <td>1</td>\n",
       "      <td>1</td>\n",
       "      <td>3</td>\n",
       "      <td>...</td>\n",
       "      <td>0</td>\n",
       "      <td>6</td>\n",
       "      <td>6</td>\n",
       "      <td>6</td>\n",
       "      <td>13.666667</td>\n",
       "      <td>0</td>\n",
       "      <td>13.9</td>\n",
       "      <td>-0.3</td>\n",
       "      <td>0.79</td>\n",
       "      <td>Graduate</td>\n",
       "    </tr>\n",
       "    <tr>\n",
       "      <th>2</th>\n",
       "      <td>1</td>\n",
       "      <td>1</td>\n",
       "      <td>5</td>\n",
       "      <td>9070</td>\n",
       "      <td>1</td>\n",
       "      <td>1</td>\n",
       "      <td>122.0</td>\n",
       "      <td>1</td>\n",
       "      <td>37</td>\n",
       "      <td>37</td>\n",
       "      <td>...</td>\n",
       "      <td>0</td>\n",
       "      <td>6</td>\n",
       "      <td>0</td>\n",
       "      <td>0</td>\n",
       "      <td>0.000000</td>\n",
       "      <td>0</td>\n",
       "      <td>10.8</td>\n",
       "      <td>1.4</td>\n",
       "      <td>1.74</td>\n",
       "      <td>Dropout</td>\n",
       "    </tr>\n",
       "    <tr>\n",
       "      <th>3</th>\n",
       "      <td>1</td>\n",
       "      <td>17</td>\n",
       "      <td>2</td>\n",
       "      <td>9773</td>\n",
       "      <td>1</td>\n",
       "      <td>1</td>\n",
       "      <td>122.0</td>\n",
       "      <td>1</td>\n",
       "      <td>38</td>\n",
       "      <td>37</td>\n",
       "      <td>...</td>\n",
       "      <td>0</td>\n",
       "      <td>6</td>\n",
       "      <td>10</td>\n",
       "      <td>5</td>\n",
       "      <td>12.400000</td>\n",
       "      <td>0</td>\n",
       "      <td>9.4</td>\n",
       "      <td>-0.8</td>\n",
       "      <td>-3.12</td>\n",
       "      <td>Graduate</td>\n",
       "    </tr>\n",
       "    <tr>\n",
       "      <th>4</th>\n",
       "      <td>2</td>\n",
       "      <td>39</td>\n",
       "      <td>1</td>\n",
       "      <td>8014</td>\n",
       "      <td>0</td>\n",
       "      <td>1</td>\n",
       "      <td>100.0</td>\n",
       "      <td>1</td>\n",
       "      <td>37</td>\n",
       "      <td>38</td>\n",
       "      <td>...</td>\n",
       "      <td>0</td>\n",
       "      <td>6</td>\n",
       "      <td>6</td>\n",
       "      <td>6</td>\n",
       "      <td>13.000000</td>\n",
       "      <td>0</td>\n",
       "      <td>13.9</td>\n",
       "      <td>-0.3</td>\n",
       "      <td>0.79</td>\n",
       "      <td>Graduate</td>\n",
       "    </tr>\n",
       "  </tbody>\n",
       "</table>\n",
       "<p>5 rows × 37 columns</p>\n",
       "</div>"
      ],
      "text/plain": [
       "   Marital status  Application mode  Application order  Course  \\\n",
       "0               1                17                  5     171   \n",
       "1               1                15                  1    9254   \n",
       "2               1                 1                  5    9070   \n",
       "3               1                17                  2    9773   \n",
       "4               2                39                  1    8014   \n",
       "\n",
       "   Daytime/evening attendance\\t  Previous qualification  \\\n",
       "0                             1                       1   \n",
       "1                             1                       1   \n",
       "2                             1                       1   \n",
       "3                             1                       1   \n",
       "4                             0                       1   \n",
       "\n",
       "   Previous qualification (grade)  Nacionality  Mother's qualification  \\\n",
       "0                           122.0            1                      19   \n",
       "1                           160.0            1                       1   \n",
       "2                           122.0            1                      37   \n",
       "3                           122.0            1                      38   \n",
       "4                           100.0            1                      37   \n",
       "\n",
       "   Father's qualification  ...  Curricular units 2nd sem (credited)  \\\n",
       "0                      12  ...                                    0   \n",
       "1                       3  ...                                    0   \n",
       "2                      37  ...                                    0   \n",
       "3                      37  ...                                    0   \n",
       "4                      38  ...                                    0   \n",
       "\n",
       "   Curricular units 2nd sem (enrolled)  \\\n",
       "0                                    0   \n",
       "1                                    6   \n",
       "2                                    6   \n",
       "3                                    6   \n",
       "4                                    6   \n",
       "\n",
       "   Curricular units 2nd sem (evaluations)  \\\n",
       "0                                       0   \n",
       "1                                       6   \n",
       "2                                       0   \n",
       "3                                      10   \n",
       "4                                       6   \n",
       "\n",
       "   Curricular units 2nd sem (approved)  Curricular units 2nd sem (grade)  \\\n",
       "0                                    0                          0.000000   \n",
       "1                                    6                         13.666667   \n",
       "2                                    0                          0.000000   \n",
       "3                                    5                         12.400000   \n",
       "4                                    6                         13.000000   \n",
       "\n",
       "   Curricular units 2nd sem (without evaluations)  Unemployment rate  \\\n",
       "0                                               0               10.8   \n",
       "1                                               0               13.9   \n",
       "2                                               0               10.8   \n",
       "3                                               0                9.4   \n",
       "4                                               0               13.9   \n",
       "\n",
       "   Inflation rate   GDP    Target  \n",
       "0             1.4  1.74   Dropout  \n",
       "1            -0.3  0.79  Graduate  \n",
       "2             1.4  1.74   Dropout  \n",
       "3            -0.8 -3.12  Graduate  \n",
       "4            -0.3  0.79  Graduate  \n",
       "\n",
       "[5 rows x 37 columns]"
      ]
     },
     "execution_count": 4,
     "metadata": {},
     "output_type": "execute_result"
    }
   ],
   "source": [
    "df = pd.read_csv('Data laboratorio 1/students.csv', sep=';')\n",
    "df.head()"
   ]
  },
  {
   "cell_type": "code",
   "execution_count": 5,
   "metadata": {},
   "outputs": [
    {
     "data": {
      "text/plain": [
       "array(['Dropout', 'Graduate', 'Enrolled'], dtype=object)"
      ]
     },
     "execution_count": 5,
     "metadata": {},
     "output_type": "execute_result"
    }
   ],
   "source": [
    "df['Target'].unique()"
   ]
  },
  {
   "cell_type": "code",
   "execution_count": 6,
   "metadata": {},
   "outputs": [
    {
     "data": {
      "text/plain": [
       "array(['Dropout', 'Enrolled'], dtype=object)"
      ]
     },
     "execution_count": 6,
     "metadata": {},
     "output_type": "execute_result"
    }
   ],
   "source": [
    "#Unificando Graduate + Enrolled\n",
    "df['Target']=df['Target'].replace('Graduate','Enrolled')\n",
    "df['Target'].unique()"
   ]
  },
  {
   "cell_type": "code",
   "execution_count": 7,
   "metadata": {},
   "outputs": [],
   "source": [
    "#Separando en train test\n",
    "\n"
   ]
  },
  {
   "cell_type": "code",
   "execution_count": 8,
   "metadata": {},
   "outputs": [
    {
     "data": {
      "text/plain": [
       "Marital status                                      int64\n",
       "Application mode                                    int64\n",
       "Application order                                   int64\n",
       "Course                                              int64\n",
       "Daytime/evening attendance\\t                        int64\n",
       "Previous qualification                              int64\n",
       "Previous qualification (grade)                    float64\n",
       "Nacionality                                         int64\n",
       "Mother's qualification                              int64\n",
       "Father's qualification                              int64\n",
       "Mother's occupation                                 int64\n",
       "Father's occupation                                 int64\n",
       "Admission grade                                   float64\n",
       "Displaced                                           int64\n",
       "Educational special needs                           int64\n",
       "Debtor                                              int64\n",
       "Tuition fees up to date                             int64\n",
       "Gender                                              int64\n",
       "Scholarship holder                                  int64\n",
       "Age at enrollment                                   int64\n",
       "International                                       int64\n",
       "Curricular units 1st sem (credited)                 int64\n",
       "Curricular units 1st sem (enrolled)                 int64\n",
       "Curricular units 1st sem (evaluations)              int64\n",
       "Curricular units 1st sem (approved)                 int64\n",
       "Curricular units 1st sem (grade)                  float64\n",
       "Curricular units 1st sem (without evaluations)      int64\n",
       "Curricular units 2nd sem (credited)                 int64\n",
       "Curricular units 2nd sem (enrolled)                 int64\n",
       "Curricular units 2nd sem (evaluations)              int64\n",
       "Curricular units 2nd sem (approved)                 int64\n",
       "Curricular units 2nd sem (grade)                  float64\n",
       "Curricular units 2nd sem (without evaluations)      int64\n",
       "Unemployment rate                                 float64\n",
       "Inflation rate                                    float64\n",
       "GDP                                               float64\n",
       "Target                                             object\n",
       "dtype: object"
      ]
     },
     "execution_count": 8,
     "metadata": {},
     "output_type": "execute_result"
    }
   ],
   "source": [
    "#Tipos de datos, buscando los datos continuos\n",
    "pd.set_option('display.max_rows', None)\n",
    "df.dtypes"
   ]
  },
  {
   "cell_type": "code",
   "execution_count": 9,
   "metadata": {},
   "outputs": [
    {
     "name": "stdout",
     "output_type": "stream",
     "text": [
      "Index(['Previous qualification (grade)', 'Admission grade',\n",
      "       'Curricular units 1st sem (grade)', 'Curricular units 2nd sem (grade)',\n",
      "       'Unemployment rate', 'Inflation rate', 'GDP'],\n",
      "      dtype='object')\n"
     ]
    }
   ],
   "source": [
    "print(df.select_dtypes(include=['float']).columns)"
   ]
  },
  {
   "cell_type": "markdown",
   "metadata": {},
   "source": [
    "#### Preprocesing\n",
    "* Unificar los valores graduate enrolled de Target\n",
    "* Pasar los datos continuos a low mid y high (según aplique)\n",
    "    * Previous Qualification\n",
    "    * Admission Grade\n",
    "    * Curricular units 1st sem (grade) - (no dice continuous en la pagina pero float)\n",
    "    * Curricular units 2nd sem (grade) -    \"\n",
    "    * Unemployment rate\n",
    "    * Inflation rate\n",
    "    * GDP\n"
   ]
  },
  {
   "cell_type": "code",
   "execution_count": 10,
   "metadata": {},
   "outputs": [],
   "source": [
    "#Pasando a categorías los calificaciones previas\n",
    "df['Previous qualification (grade)'] = pd.cut(df['Previous qualification (grade)'], bins=3, labels=[\"low\",'mid','high'], right=False)\n"
   ]
  },
  {
   "cell_type": "code",
   "execution_count": 11,
   "metadata": {},
   "outputs": [
    {
     "data": {
      "text/plain": [
       "['low', 'high', 'mid']\n",
       "Categories (3, object): ['low' < 'mid' < 'high']"
      ]
     },
     "execution_count": 11,
     "metadata": {},
     "output_type": "execute_result"
    }
   ],
   "source": [
    "df['Previous qualification (grade)'].unique()"
   ]
  },
  {
   "cell_type": "code",
   "execution_count": 12,
   "metadata": {},
   "outputs": [],
   "source": [
    "columns = df.select_dtypes(include=['float']).columns\n",
    "for column in columns:\n",
    "    df[column] = pd.cut(df[column], bins=3, labels=[\"low\",'mid','high'], right=False)\n"
   ]
  },
  {
   "cell_type": "code",
   "execution_count": 13,
   "metadata": {},
   "outputs": [
    {
     "data": {
      "text/plain": [
       "3003"
      ]
     },
     "execution_count": 13,
     "metadata": {},
     "output_type": "execute_result"
    }
   ],
   "source": [
    "df[df[\"Target\"]==\"Enrolled\"].shape[0]"
   ]
  },
  {
   "cell_type": "markdown",
   "metadata": {},
   "source": [
    "#### ID3"
   ]
  },
  {
   "cell_type": "code",
   "execution_count": 14,
   "metadata": {},
   "outputs": [],
   "source": [
    "#Calculo de la entropía total con respecto a la columna objetio\n",
    "def entropia(df, objetivo, resultados):\n",
    "    entropia = [0] * len(resultados)\n",
    "    for i, val in enumerate(resultados):\n",
    "        ci = df[df[objetivo]==val].shape[0]\n",
    "        tot = df.shape[0]\n",
    "        entropia[i]= -ci/tot * math.log(ci/tot) if not (ci==0) else 0\n",
    "    return sum(entropia)"
   ]
  },
  {
   "cell_type": "code",
   "execution_count": 15,
   "metadata": {},
   "outputs": [],
   "source": [
    "#Entropía del subconjunto\n",
    "def entropiasbcjto(df, atributo, objetivo): #df datos, atributo que separa, columna objetivo\n",
    "    valores = df[atributo].unique() #valores posibles del atributo\n",
    "    aux = [0]*len(valores)\n",
    "    s = df.shape[0] # cantidad de datos\n",
    "    for i,valor in enumerate(valores):\n",
    "        sv = df[df[atributo]==valor].shape[0] #cantidad de datos con atributo = valor\n",
    "        EntrSv = entropia(df[df[atributo]==valor], objetivo, df[objetivo].unique())#Entropía de cada valor posible del atributo\n",
    "        aux[i]=sv/s*EntrSv\n",
    "    return sum(aux)"
   ]
  },
  {
   "cell_type": "code",
   "execution_count": 16,
   "metadata": {},
   "outputs": [
    {
     "data": {
      "text/plain": [
       "0.5833968508234656"
      ]
     },
     "execution_count": 16,
     "metadata": {},
     "output_type": "execute_result"
    }
   ],
   "source": [
    "entropiasbcjto(df,\"Application mode\", \"Target\")"
   ]
  },
  {
   "cell_type": "code",
   "execution_count": 17,
   "metadata": {},
   "outputs": [],
   "source": [
    "# Information Gain\n",
    "def info_gain(df, atributo, objetivo):\n",
    "    return entropia(df, objetivo, df[objetivo].unique()) - entropiasbcjto(df, atributo, objetivo)"
   ]
  },
  {
   "cell_type": "code",
   "execution_count": 18,
   "metadata": {},
   "outputs": [
    {
     "data": {
      "text/plain": [
       "0.020410823899658648"
      ]
     },
     "execution_count": 18,
     "metadata": {},
     "output_type": "execute_result"
    }
   ],
   "source": [
    "info_gain(df,\"Gender\", \"Target\")"
   ]
  },
  {
   "cell_type": "code",
   "execution_count": 19,
   "metadata": {},
   "outputs": [],
   "source": [
    "def max_info (df, objetivo):\n",
    "    atributos = df.drop(objetivo,axis = 1).columns\n",
    "    max_info = -1\n",
    "    max_info_atrib = None\n",
    "\n",
    "    for col in atributos:\n",
    "        gain_col = info_gain(df, col, objetivo)\n",
    "\n",
    "        if gain_col > max_info:\n",
    "            max_info = gain_col\n",
    "            max_info_atrib = col\n",
    "    \n",
    "    return max_info_atrib\n",
    "\n"
   ]
  },
  {
   "cell_type": "code",
   "execution_count": 20,
   "metadata": {},
   "outputs": [
    {
     "data": {
      "text/plain": [
       "'Curricular units 2nd sem (approved)'"
      ]
     },
     "execution_count": 20,
     "metadata": {},
     "output_type": "execute_result"
    }
   ],
   "source": [
    "max_info(df, \"Target\")"
   ]
  },
  {
   "cell_type": "code",
   "execution_count": 21,
   "metadata": {},
   "outputs": [
    {
     "data": {
      "text/plain": [
       "'Curricular units 1st sem (approved)'"
      ]
     },
     "execution_count": 21,
     "metadata": {},
     "output_type": "execute_result"
    }
   ],
   "source": [
    "max_info(df.drop('Curricular units 2nd sem (approved)',axis=1), \"Target\")"
   ]
  },
  {
   "cell_type": "code",
   "execution_count": 22,
   "metadata": {},
   "outputs": [
    {
     "name": "stdout",
     "output_type": "stream",
     "text": [
      "1 4314\n",
      "62 2\n",
      "6 13\n",
      "41 38\n",
      "26 14\n",
      "103 3\n",
      "13 1\n",
      "25 2\n",
      "21 2\n",
      "101 2\n",
      "11 3\n",
      "22 13\n",
      "32 1\n",
      "100 3\n",
      "24 5\n",
      "109 1\n",
      "2 2\n",
      "108 1\n",
      "105 2\n",
      "14 1\n",
      "17 1\n"
     ]
    },
    {
     "data": {
      "text/plain": [
       "<function print>"
      ]
     },
     "execution_count": 22,
     "metadata": {},
     "output_type": "execute_result"
    }
   ],
   "source": [
    "valores_cantidades = df[\"Nacionality\"].value_counts(sort=False)\n",
    "for valor, cantidad in valores_cantidades.items():\n",
    "    print(valor,cantidad)\n",
    "print"
   ]
  },
  {
   "cell_type": "code",
   "execution_count": 23,
   "metadata": {},
   "outputs": [
    {
     "name": "stdout",
     "output_type": "stream",
     "text": [
      "['Dropout' 'Enrolled']\n"
     ]
    },
    {
     "data": {
      "text/plain": [
       "1421"
      ]
     },
     "execution_count": 23,
     "metadata": {},
     "output_type": "execute_result"
    }
   ],
   "source": [
    "resultados = df[\"Target\"].unique()\n",
    "print(resultados)\n",
    "len(df[df[\"Target\"]==resultados[0]])"
   ]
  },
  {
   "cell_type": "code",
   "execution_count": 73,
   "metadata": {},
   "outputs": [],
   "source": [
    "#Generar sub arbol a partir de un atributo\n",
    "def generar_subarbol(atributo, data, objetivo, min_gain_split):\n",
    "    resultados = data[objetivo].unique() # Etiquetas resultado\n",
    "    valores = data[atributo].unique() # valores del atributo\n",
    "    tree = {} #subarbol\n",
    "\n",
    "    for valor in valores:\n",
    "        datos_valor = data[data[atributo]==valor] # me quedo con los datos de esta rama\n",
    "        sig_nodo=max_info(datos_valor,objetivo)\n",
    "        if info_gain(datos_valor, sig_nodo, objetivo) <= min_gain_split:#si no supera el umbaral de ganancia\n",
    "            #cantidad de datos de cada etiqueta\n",
    "            cant0 = len(datos_valor[datos_valor[objetivo]==resultados[0]])\n",
    "            cant1 = len(datos_valor[datos_valor[objetivo]==resultados[1]])\n",
    "            tree[valor] = resultados[0] if cant0>cant1 else resultados[1] #asigno la etiqueta mayoritaria\n",
    "            data = data[data[atributo]!=valor] #Como es hoja saco estos datos\n",
    "        \n",
    "        if info_gain(datos_valor, sig_nodo , objetivo) > min_gain_split: #Si la rama aporta información separo\n",
    "            tree[valor]=\"?\" #marco la rama a extender\n",
    "         \n",
    "    return tree, data"
   ]
  },
  {
   "cell_type": "code",
   "execution_count": 74,
   "metadata": {},
   "outputs": [],
   "source": [
    "tree, data = generar_subarbol(\"Nacionality\", df, \"Target\", 0)"
   ]
  },
  {
   "cell_type": "code",
   "execution_count": 77,
   "metadata": {},
   "outputs": [
    {
     "name": "stdout",
     "output_type": "stream",
     "text": [
      "1 ?\n",
      "62 Enrolled\n",
      "6 ?\n",
      "41 ?\n",
      "26 ?\n",
      "103 ?\n",
      "13 Enrolled\n",
      "25 Enrolled\n",
      "21 ?\n",
      "101 ?\n",
      "11 Enrolled\n",
      "22 ?\n",
      "32 Enrolled\n",
      "100 ?\n",
      "24 ?\n",
      "109 Dropout\n",
      "2 Enrolled\n",
      "108 Enrolled\n",
      "105 ?\n",
      "14 Enrolled\n",
      "17 Dropout\n"
     ]
    }
   ],
   "source": [
    "for node, branch in list(tree.items()):\n",
    "    print(node, branch)"
   ]
  },
  {
   "cell_type": "code",
   "execution_count": 114,
   "metadata": {},
   "outputs": [],
   "source": [
    "#Generar árbol\n",
    "\n",
    "def generar_arbol(raiz, val_prev, data, objetivo, min_gain_split):\n",
    "    if data.shape[0]!=0: \n",
    "        sig_nodo = max_info(data,objetivo)\n",
    "        arbol, data = generar_subarbol(sig_nodo, data, objetivo, min_gain_split)\n",
    "\n",
    "        if val_prev != None :\n",
    "            raiz[val_prev]={}\n",
    "            raiz[val_prev][sig_nodo] = arbol\n",
    "            nueva_raiz = raiz[val_prev][sig_nodo]\n",
    "\n",
    "        if val_prev == None: # si es el comienzo del arbol\n",
    "            raiz[sig_nodo]=arbol # raiz del arbol\n",
    "            nueva_raiz = raiz[sig_nodo]\n",
    "\n",
    "        for nodo, rama in list(nueva_raiz.items()):\n",
    "            if rama ==\"?\":\n",
    "                generar_arbol(nueva_raiz, nodo, data[data[sig_nodo]==nodo], objetivo, min_gain_split) \n",
    "                \n"
   ]
  },
  {
   "cell_type": "code",
   "execution_count": 115,
   "metadata": {},
   "outputs": [],
   "source": [
    "arbol = {}\n",
    "generar_arbol(arbol, None, df, \"Target\", 0.2)"
   ]
  },
  {
   "cell_type": "code",
   "execution_count": 116,
   "metadata": {},
   "outputs": [
    {
     "data": {
      "text/plain": [
       "{'Curricular units 2nd sem (approved)': {0: 'Dropout',\n",
       "  6: 'Enrolled',\n",
       "  5: 'Enrolled',\n",
       "  8: 'Enrolled',\n",
       "  2: 'Dropout',\n",
       "  7: 'Enrolled',\n",
       "  4: 'Enrolled',\n",
       "  1: 'Dropout',\n",
       "  3: 'Enrolled',\n",
       "  10: {'Age at enrollment': {27: 'Dropout',\n",
       "    24: 'Dropout',\n",
       "    20: {'Application mode': {1: 'Enrolled', 42: 'Dropout'}},\n",
       "    42: 'Enrolled',\n",
       "    28: {'Course': {9991: 'Enrolled', 9003: 'Dropout'}},\n",
       "    46: 'Enrolled',\n",
       "    19: {\"Mother's qualification\": {1: 'Enrolled',\n",
       "      4: 'Enrolled',\n",
       "      19: 'Enrolled',\n",
       "      3: 'Dropout'}},\n",
       "    37: 'Enrolled',\n",
       "    30: 'Enrolled',\n",
       "    45: 'Enrolled',\n",
       "    23: 'Enrolled',\n",
       "    25: 'Dropout',\n",
       "    21: {'Course': {9070: 'Dropout',\n",
       "      9238: 'Enrolled',\n",
       "      9147: 'Enrolled',\n",
       "      8014: 'Enrolled'}},\n",
       "    22: 'Enrolled',\n",
       "    32: {'Course': {9003: 'Dropout', 9991: 'Enrolled', 8014: 'Enrolled'}},\n",
       "    29: 'Enrolled',\n",
       "    54: 'Dropout',\n",
       "    39: 'Enrolled',\n",
       "    41: 'Enrolled',\n",
       "    26: 'Enrolled'}},\n",
       "  13: 'Enrolled',\n",
       "  11: {'Curricular units 1st sem (enrolled)': {10: 'Enrolled',\n",
       "    11: 'Enrolled',\n",
       "    12: 'Enrolled',\n",
       "    15: {'Marital status': {1: 'Dropout', 2: 'Enrolled'}},\n",
       "    16: 'Enrolled',\n",
       "    13: 'Enrolled',\n",
       "    17: 'Enrolled',\n",
       "    14: 'Enrolled'}},\n",
       "  19: 'Enrolled',\n",
       "  9: {'Curricular units 1st sem (credited)': {11: 'Enrolled',\n",
       "    10: {'Application mode': {43: 'Enrolled', 42: 'Enrolled', 7: 'Dropout'}},\n",
       "    6: {\"Mother's qualification\": {37: 'Enrolled',\n",
       "      1: 'Enrolled',\n",
       "      3: 'Dropout',\n",
       "      38: 'Enrolled',\n",
       "      19: 'Enrolled'}},\n",
       "    2: 'Enrolled',\n",
       "    8: 'Enrolled',\n",
       "    5: 'Enrolled',\n",
       "    9: 'Dropout',\n",
       "    0: 'Enrolled',\n",
       "    7: 'Enrolled',\n",
       "    12: 'Dropout',\n",
       "    3: 'Enrolled',\n",
       "    4: 'Enrolled',\n",
       "    13: 'Dropout'}},\n",
       "  12: {'Age at enrollment': {21: 'Enrolled',\n",
       "    28: {'Marital status': {1: 'Enrolled', 2: 'Dropout'}},\n",
       "    27: 'Enrolled',\n",
       "    39: 'Enrolled',\n",
       "    22: 'Enrolled',\n",
       "    19: 'Enrolled',\n",
       "    52: 'Enrolled',\n",
       "    31: 'Enrolled',\n",
       "    20: 'Enrolled',\n",
       "    25: {'Application mode': {7: 'Dropout', 17: 'Dropout', 42: 'Enrolled'}},\n",
       "    35: {'Marital status': {1: 'Enrolled', 2: 'Dropout'}},\n",
       "    32: 'Enrolled',\n",
       "    30: 'Enrolled',\n",
       "    23: 'Enrolled',\n",
       "    53: 'Enrolled',\n",
       "    54: 'Enrolled',\n",
       "    36: 'Enrolled',\n",
       "    38: 'Dropout',\n",
       "    24: 'Dropout',\n",
       "    42: 'Dropout'}},\n",
       "  17: 'Enrolled',\n",
       "  14: 'Enrolled',\n",
       "  20: 'Enrolled',\n",
       "  16: 'Dropout',\n",
       "  18: 'Enrolled'}}"
      ]
     },
     "execution_count": 116,
     "metadata": {},
     "output_type": "execute_result"
    }
   ],
   "source": [
    "arbol"
   ]
  }
 ],
 "metadata": {
  "kernelspec": {
   "display_name": "base",
   "language": "python",
   "name": "python3"
  },
  "language_info": {
   "codemirror_mode": {
    "name": "ipython",
    "version": 3
   },
   "file_extension": ".py",
   "mimetype": "text/x-python",
   "name": "python",
   "nbconvert_exporter": "python",
   "pygments_lexer": "ipython3",
   "version": "3.10.9"
  },
  "orig_nbformat": 4
 },
 "nbformat": 4,
 "nbformat_minor": 2
}
